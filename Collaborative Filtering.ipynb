{
  "cells": [
    {
      "cell_type": "markdown",
      "source": [
        "# Collaborative Filtering"
      ],
      "metadata": {
        "id": "k2ez8JVuOUdc"
      }
    },
    {
      "cell_type": "code",
      "source": [
        "from google.colab import drive\n",
        "drive.mount('/content/gdrive')"
      ],
      "metadata": {
        "colab": {
          "base_uri": "https://localhost:8080/"
        },
        "id": "JfoMn5oOBKlQ",
        "outputId": "d58db324-cb27-4ac2-84e7-ee5c013a5592"
      },
      "execution_count": null,
      "outputs": [
        {
          "output_type": "stream",
          "name": "stdout",
          "text": [
            "Mounted at /content/gdrive\n"
          ]
        }
      ]
    },
    {
      "cell_type": "code",
      "source": [
        "%%capture\n",
        "!sudo apt-get update --fix-missing\n",
        "\n",
        "!apt-get install openjdk-8-jdk-headless -qq > /dev/null\n",
        "\n",
        "!wget -q https://archive.apache.org/dist/spark/spark-3.0.0/spark-3.0.0-bin-hadoop3.2.tgz\n",
        "#!wget -q https://downloads.apache.org/spark/spark-3.0.0/spark-3.0.0-bin-hadoop3.2.tgz\n",
        "\n",
        "!mv spark-3.0.0-bin-hadoop3.2.tgz sparkkk\n",
        "!tar xf sparkkk\n",
        "!pip install -q findspark\n",
        "!pip install pyspark"
      ],
      "metadata": {
        "id": "HHtN6JveBoXQ"
      },
      "execution_count": null,
      "outputs": []
    },
    {
      "cell_type": "code",
      "source": [
        "import os\n",
        "os.environ[\"JAVA_HOME\"] = \"/usr/lib/jvm/java-8-openjdk-amd64\"\n",
        "os.environ[\"SPARK_HOME\"] = \"/content/spark-3.0.0-bin-hadoop3.2\"\n",
        "\n",
        "import findspark\n",
        "findspark.init()\n",
        "\n",
        "from pyspark.sql import SparkSession\n",
        "spark = SparkSession.builder.master(\"local[*]\").getOrCreate()\n",
        "\n",
        "from pyspark.sql import SparkSession\n",
        "spark = SparkSession \\\n",
        "    .builder \\\n",
        "    .appName('collaborative-filtering') \\\n",
        "    .getOrCreate()\n",
        "\n",
        "spark   "
      ],
      "metadata": {
        "colab": {
          "base_uri": "https://localhost:8080/",
          "height": 219
        },
        "id": "F42yLNJhCM2R",
        "outputId": "ab49cb98-082c-4706-a46a-73e03dddc58d"
      },
      "execution_count": null,
      "outputs": [
        {
          "output_type": "execute_result",
          "data": {
            "text/plain": [
              "<pyspark.sql.session.SparkSession at 0x7ff72c332970>"
            ],
            "text/html": [
              "\n",
              "            <div>\n",
              "                <p><b>SparkSession - in-memory</b></p>\n",
              "                \n",
              "        <div>\n",
              "            <p><b>SparkContext</b></p>\n",
              "\n",
              "            <p><a href=\"http://a795194a6e9c:4040\">Spark UI</a></p>\n",
              "\n",
              "            <dl>\n",
              "              <dt>Version</dt>\n",
              "                <dd><code>v3.0.0</code></dd>\n",
              "              <dt>Master</dt>\n",
              "                <dd><code>local[*]</code></dd>\n",
              "              <dt>AppName</dt>\n",
              "                <dd><code>pyspark-shell</code></dd>\n",
              "            </dl>\n",
              "        </div>\n",
              "        \n",
              "            </div>\n",
              "        "
            ]
          },
          "metadata": {},
          "execution_count": 30
        }
      ]
    },
    {
      "cell_type": "code",
      "execution_count": null,
      "metadata": {
        "id": "uqKE1rjOuqma"
      },
      "outputs": [],
      "source": [
        "from pyspark.ml.evaluation import RegressionEvaluator\n",
        "from pyspark.ml.recommendation import ALS\n",
        "from pyspark.sql import Row\n",
        "\n",
        "lines = spark.read.text(\"gdrive/MyDrive/Colab Notebooks/BIG DATA/sample_movielens_ratings.txt\").rdd\n",
        "parts = lines.map(lambda row: row.value.split(\"::\"))\n",
        "ratingsRDD = parts.map(lambda p: Row(userId=int(p[0]), movieId=int(p[1]),\n",
        "                                     rating=float(p[2]), timestamp=int(p[3])))\n",
        "ratings = spark.createDataFrame(ratingsRDD)\n",
        "(training, test) = ratings.randomSplit([0.8, 0.2])\n"
      ]
    },
    {
      "cell_type": "markdown",
      "source": [
        "### MaxIter = 5, RegParam = 0.1"
      ],
      "metadata": {
        "id": "o_OsghEFI4xk"
      }
    },
    {
      "cell_type": "code",
      "source": [
        "als0 = ALS(maxIter=5, regParam=0.1, userCol=\"userId\", itemCol=\"movieId\", ratingCol=\"rating\",\n",
        "          coldStartStrategy=\"drop\")\n",
        "model = als0.fit(training)\n",
        "\n",
        "predictions = model.transform(test)\n",
        "evaluator = RegressionEvaluator(metricName=\"rmse\", labelCol=\"rating\",\n",
        "                                predictionCol=\"prediction\")\n",
        "rmse0 = evaluator.evaluate(predictions)"
      ],
      "metadata": {
        "id": "tfhO4tkCIwLm"
      },
      "execution_count": null,
      "outputs": []
    },
    {
      "cell_type": "markdown",
      "source": [
        "### MaxIter = 5, RegParam = 0.5"
      ],
      "metadata": {
        "id": "7RPEMCANIsBl"
      }
    },
    {
      "cell_type": "code",
      "source": [
        "als1 = ALS(maxIter=5, regParam=0.5, userCol=\"userId\", itemCol=\"movieId\", ratingCol=\"rating\",\n",
        "          coldStartStrategy=\"drop\")\n",
        "model = als1.fit(training)\n",
        "\n",
        "predictions = model.transform(test)\n",
        "evaluator = RegressionEvaluator(metricName=\"rmse\", labelCol=\"rating\",\n",
        "                                predictionCol=\"prediction\")\n",
        "rmse1 = evaluator.evaluate(predictions)"
      ],
      "metadata": {
        "id": "nb_k5ebiIHKF"
      },
      "execution_count": null,
      "outputs": []
    },
    {
      "cell_type": "markdown",
      "source": [
        "### MaxIter = 5, RegParam = 1"
      ],
      "metadata": {
        "id": "1SE5UnZkKAgS"
      }
    },
    {
      "cell_type": "code",
      "source": [
        "als2 = ALS(maxIter=5, regParam=1, userCol=\"userId\", itemCol=\"movieId\", ratingCol=\"rating\",\n",
        "          coldStartStrategy=\"drop\")\n",
        "model = als2.fit(training)\n",
        "\n",
        "predictions = model.transform(test)\n",
        "evaluator = RegressionEvaluator(metricName=\"rmse\", labelCol=\"rating\",\n",
        "                                predictionCol=\"prediction\")\n",
        "rmse2 = evaluator.evaluate(predictions)"
      ],
      "metadata": {
        "id": "jzIqleyp7kpE"
      },
      "execution_count": null,
      "outputs": []
    },
    {
      "cell_type": "markdown",
      "source": [
        "### MaxIter = 10, RegParam = 0.1"
      ],
      "metadata": {
        "id": "cvqd3s0KLbdG"
      }
    },
    {
      "cell_type": "code",
      "source": [
        "als3 = ALS(maxIter=10, regParam=0.1, userCol=\"userId\", itemCol=\"movieId\", ratingCol=\"rating\",\n",
        "          coldStartStrategy=\"drop\")\n",
        "model = als3.fit(training)\n",
        "\n",
        "predictions = model.transform(test)\n",
        "evaluator = RegressionEvaluator(metricName=\"rmse\", labelCol=\"rating\",\n",
        "                                predictionCol=\"prediction\")\n",
        "rmse3 = evaluator.evaluate(predictions)"
      ],
      "metadata": {
        "id": "Sk7Unr27Lgfl"
      },
      "execution_count": null,
      "outputs": []
    },
    {
      "cell_type": "markdown",
      "source": [
        "### MaxIter = 10, RegParam = 0.5"
      ],
      "metadata": {
        "id": "x8zGXTjTLlC3"
      }
    },
    {
      "cell_type": "code",
      "source": [
        "als4 = ALS(maxIter=10, regParam=0.5, userCol=\"userId\", itemCol=\"movieId\", ratingCol=\"rating\",\n",
        "          coldStartStrategy=\"drop\")\n",
        "model = als4.fit(training)\n",
        "\n",
        "predictions = model.transform(test)\n",
        "evaluator = RegressionEvaluator(metricName=\"rmse\", labelCol=\"rating\",\n",
        "                                predictionCol=\"prediction\")\n",
        "rmse4 = evaluator.evaluate(predictions)"
      ],
      "metadata": {
        "id": "VA23dTvwLvft"
      },
      "execution_count": null,
      "outputs": []
    },
    {
      "cell_type": "markdown",
      "source": [
        "### MaxIter = 10, RegParam = 1"
      ],
      "metadata": {
        "id": "rWQUkO0sLllB"
      }
    },
    {
      "cell_type": "code",
      "source": [
        "als5 = ALS(maxIter=10, regParam=1, userCol=\"userId\", itemCol=\"movieId\", ratingCol=\"rating\",\n",
        "          coldStartStrategy=\"drop\")\n",
        "model = als5.fit(training)\n",
        "\n",
        "predictions = model.transform(test)\n",
        "evaluator = RegressionEvaluator(metricName=\"rmse\", labelCol=\"rating\",\n",
        "                                predictionCol=\"prediction\")\n",
        "rmse5 = evaluator.evaluate(predictions)"
      ],
      "metadata": {
        "id": "eg436ONTL6h-"
      },
      "execution_count": null,
      "outputs": []
    },
    {
      "cell_type": "markdown",
      "source": [
        "### MaxIter = 20, RegParam = 0.1"
      ],
      "metadata": {
        "id": "56Cj6PLOLqXP"
      }
    },
    {
      "cell_type": "code",
      "source": [
        "als6 = ALS(maxIter=20, regParam=0.1, userCol=\"userId\", itemCol=\"movieId\", ratingCol=\"rating\",\n",
        "          coldStartStrategy=\"drop\")\n",
        "model = als6.fit(training)\n",
        "\n",
        "predictions = model.transform(test)\n",
        "evaluator = RegressionEvaluator(metricName=\"rmse\", labelCol=\"rating\",\n",
        "                                predictionCol=\"prediction\")\n",
        "rmse6 = evaluator.evaluate(predictions)"
      ],
      "metadata": {
        "id": "MfY1I3p-L-zy"
      },
      "execution_count": null,
      "outputs": []
    },
    {
      "cell_type": "markdown",
      "source": [
        "### MaxIter = 20, RegParam = 0.5"
      ],
      "metadata": {
        "id": "BRB7yn6iLsJL"
      }
    },
    {
      "cell_type": "code",
      "source": [
        "als7 = ALS(maxIter=20, regParam=0.5, userCol=\"userId\", itemCol=\"movieId\", ratingCol=\"rating\",\n",
        "          coldStartStrategy=\"drop\")\n",
        "model = als7.fit(training)\n",
        "\n",
        "predictions = model.transform(test)\n",
        "evaluator = RegressionEvaluator(metricName=\"rmse\", labelCol=\"rating\",\n",
        "                                predictionCol=\"prediction\")\n",
        "rmse7 = evaluator.evaluate(predictions)"
      ],
      "metadata": {
        "id": "W0vhryu5ME7W"
      },
      "execution_count": null,
      "outputs": []
    },
    {
      "cell_type": "markdown",
      "source": [
        "### MaxIter = 20, RegParam = 1"
      ],
      "metadata": {
        "id": "VQeLTfk_LtrG"
      }
    },
    {
      "cell_type": "code",
      "source": [
        "als8 = ALS(maxIter=20, regParam=1, userCol=\"userId\", itemCol=\"movieId\", ratingCol=\"rating\",\n",
        "          coldStartStrategy=\"drop\")\n",
        "model = als8.fit(training)\n",
        "\n",
        "predictions = model.transform(test)\n",
        "evaluator = RegressionEvaluator(metricName=\"rmse\", labelCol=\"rating\",\n",
        "                                predictionCol=\"prediction\")\n",
        "rmse8 = evaluator.evaluate(predictions)"
      ],
      "metadata": {
        "id": "IdK6WU6mMI4G"
      },
      "execution_count": null,
      "outputs": []
    },
    {
      "cell_type": "markdown",
      "source": [
        "### RMSE Results"
      ],
      "metadata": {
        "id": "YtKx00puORHz"
      }
    },
    {
      "cell_type": "code",
      "source": [
        "print(\"Root-mean-square error\")\n",
        "print(\"(MaxIter = 5) && (RegParam = 0.1) ==> \" + str(rmse0))\n",
        "print(\"(MaxIter = 5) && (RegParam = 0.5) ==> \" + str(rmse1))\n",
        "print(\"(MaxIter = 5) && (RegParam = 1) ==> \" + str(rmse2))\n",
        "print(\"(MaxIter = 10) && (RegParam = 0.1) ==> \" + str(rmse3))\n",
        "print(\"(MaxIter = 10) && (RegParam = 0.5) ==> \" + str(rmse4))\n",
        "print(\"(MaxIter = 10) && (RegParam = 1) ==> \" + str(rmse5))\n",
        "print(\"(MaxIter = 20) && (RegParam = 0.1) ==> \" + str(rmse6))\n",
        "print(\"(MaxIter = 20) && (RegParam = 0.5) ==> \" + str(rmse7))\n",
        "print(\"(MaxIter = 20) && (RegParam = 1) ==> \" + str(rmse8))"
      ],
      "metadata": {
        "id": "Rab0B48YDRsn",
        "outputId": "1a1005ba-70eb-4081-fabb-bdd8d2a9da1f",
        "colab": {
          "base_uri": "https://localhost:8080/"
        }
      },
      "execution_count": null,
      "outputs": [
        {
          "output_type": "stream",
          "name": "stdout",
          "text": [
            "Root-mean-square error\n",
            "(MaxIter = 5) && (RegParam = 0.1) ==> 1.054592946710491\n",
            "(MaxIter = 5) && (RegParam = 0.5) ==> 1.2828161971379672\n",
            "(MaxIter = 5) && (RegParam = 1) ==> 1.5561797582804586\n",
            "(MaxIter = 10) && (RegParam = 0.1) ==> 1.0392105854174971\n",
            "(MaxIter = 10) && (RegParam = 0.5) ==> 1.2823122304669128\n",
            "(MaxIter = 10) && (RegParam = 1) ==> 1.556180714385883\n",
            "(MaxIter = 20) && (RegParam = 0.1) ==> 1.0496152235443992\n",
            "(MaxIter = 20) && (RegParam = 0.5) ==> 1.282917999285915\n",
            "(MaxIter = 20) && (RegParam = 1) ==> 1.5561807186493415\n"
          ]
        }
      ]
    },
    {
      "cell_type": "markdown",
      "source": [
        "### Conclusion"
      ],
      "metadata": {
        "id": "Cc9TejPsPgqH"
      }
    },
    {
      "cell_type": "code",
      "source": [
        "# The lower the RMSE value, the better the performance of the Collaborative Filtering model. \n",
        "# A high RMSE value indicates that the model is less accurate in predicting ratings and needs to be improved or refined.\n",
        "# So, we take models when MaxIter = 20 and RegParam = 0.1. Which use ALS6\n",
        "\n",
        "model = als6.fit(training)\n",
        "\n",
        "# Generate top 10 movie recommendations for each user\n",
        "userRecs = model.recommendForAllUsers(10)\n",
        "# Generate top 10 user recommendations for each movie\n",
        "movieRecs = model.recommendForAllItems(10)\n",
        "\n",
        "# Generate top 10 movie recommendations for a specified set of users\n",
        "users = ratings.select(als6.getUserCol()).distinct().limit(3)\n",
        "userSubsetRecs = model.recommendForUserSubset(users, 10)\n",
        "# Generate top 10 user recommendations for a specified set of movies\n",
        "movies = ratings.select(als6.getItemCol()).distinct().limit(3)\n",
        "movieSubSetRecs = model.recommendForItemSubset(movies, 10)"
      ],
      "metadata": {
        "id": "5ryCMRI5Oeoj"
      },
      "execution_count": null,
      "outputs": []
    }
  ],
  "metadata": {
    "colab": {
      "provenance": []
    },
    "kernelspec": {
      "display_name": "Python 3",
      "name": "python3"
    },
    "language_info": {
      "name": "python"
    }
  },
  "nbformat": 4,
  "nbformat_minor": 0
}